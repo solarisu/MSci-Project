{
 "cells": [
  {
   "cell_type": "code",
   "execution_count": 1,
   "id": "2a6e13a4",
   "metadata": {},
   "outputs": [],
   "source": [
    "import numpy as np\n",
    "import pandas as pd\n",
    "import csv\n",
    "import matplotlib.pyplot as plt\n",
    "from mpl_toolkits.mplot3d import Axes3D\n",
    "from sklearn.preprocessing import StandardScaler\n",
    "from sklearn.model_selection import train_test_split\n",
    "import xgboost as xgb\n",
    "from sklearn.metrics import auc, accuracy_score, confusion_matrix, mean_squared_error\n",
    "from sklearn.preprocessing import MinMaxScaler\n",
    "from sklearn.ensemble import GradientBoostingRegressor\n",
    "import math\n",
    "from scipy.optimize import minimize\n",
    "import scipy.sparse as sp\n",
    "from scipy.sparse import csr_matrix\n",
    "from scipy.sparse import vstack\n",
    "from scipy.sparse import hstack\n",
    "from sklearn.model_selection import GridSearchCV\n",
    "from scipy.optimize import curve_fit\n",
    "import seaborn as sns\n",
    "from scipy import stats\n",
    "from scipy.stats import poisson\n",
    "from scipy.special import erf\n",
    "from scipy.stats import gamma\n",
    "from sklearn.model_selection import RandomizedSearchCV\n",
    "import time\n",
    "from scipy.optimize import newton\n",
    "from scipy.stats import norm\n",
    "from itertools import product\n",
    "import nbimporter\n",
    "import functions\n",
    "from tqdm import tqdm"
   ]
  },
  {
   "cell_type": "code",
   "execution_count": 2,
   "id": "2498fbc2",
   "metadata": {},
   "outputs": [],
   "source": [
    "pi0_event_info = #csv\n",
    "pi0_layer_info = #csv\n",
    "\n",
    "pi0_event_info = pi0_event_info.astype('float32')\n",
    "pi0_layer_info = pi0_layer_info.astype('float32')\n",
    "\n",
    "\n",
    "psb = pi0_layer_info.iloc[:, 1:64] #9 eta * 7 phi\n",
    "emb1 = pi0_layer_info.iloc[:, 64:65+50] #17 eta * 3 phi\n",
    "emb2 = pi0_layer_info.iloc[:, 65+50:65+51+62] #9 eta * 7 phi\n",
    "emb3 = pi0_layer_info.iloc[:, 65+51+62:65+51+62+63] #9 eta * 7 phi\n",
    "hab1 = pi0_layer_info.iloc[:,65+51+62+63:] #9 eta * 7 phi"
   ]
  },
  {
   "cell_type": "code",
   "execution_count": 3,
   "id": "9cb4fcec",
   "metadata": {},
   "outputs": [],
   "source": [
    "def sum_and_restructure(df, df_name, num_segments, segment_size):\n",
    "    #Convert the DataFrame to a NumPy array for manipulation\n",
    "    data_array = df.to_numpy()\n",
    "    \n",
    "    #Reshape the array to 3D with dimensions: [num_rows, segment_size, num_segments]\n",
    "    #This groups each set of segments together for each row\n",
    "    reshaped_array = data_array.reshape(-1, num_segments, segment_size)\n",
    "    \n",
    "    #Sum over the last axis (num_segments) to combine the segments\n",
    "    summed_array = reshaped_array.sum(axis=1)\n",
    "    \n",
    "    #Convert the summed array back into a DataFrame with appropriate column names\n",
    "    column_names = [f\"{df_name} Et{i+1}\" for i in range(segment_size)]\n",
    "    summed_df = pd.DataFrame(summed_array, columns=column_names)\n",
    "    \n",
    "    return summed_df"
   ]
  },
  {
   "cell_type": "code",
   "execution_count": 4,
   "id": "c26a06cf",
   "metadata": {},
   "outputs": [],
   "source": [
    "psb_Et = sum_and_restructure(psb, \"psb\", 7, 9)\n",
    "emb1_Et = sum_and_restructure(emb1, \"emb1\", 3, 17)\n",
    "emb2_Et = sum_and_restructure(emb2, \"emb2\", 7, 9)\n",
    "emb3_Et = sum_and_restructure(emb3, \"emb3\", 7, 9)\n",
    "hab1_Et = sum_and_restructure(hab1, \"hab1\", 7, 9)"
   ]
  },
  {
   "cell_type": "code",
   "execution_count": 5,
   "id": "0e41f2de",
   "metadata": {},
   "outputs": [],
   "source": [
    "psb_eta = pi0_event_info[\"psb eta\"]\n",
    "emb1_eta = pi0_event_info[\"emb1 eta\"]\n",
    "emb2_eta = pi0_event_info[\"emb2 eta\"]\n",
    "emb3_eta = pi0_event_info[\"emb3 eta\"]\n",
    "hab1_eta = pi0_event_info[\"hab1 eta\"]\n",
    "psb_emb1 = pd.DataFrame({\"psb - emb1\": (psb_eta - emb1_eta)})\n",
    "emb1_emb2 = pd.DataFrame({\"emb1 - emb2\": (emb1_eta - emb2_eta)})\n",
    "emb2_emb3 = pd.DataFrame({\"emb2 - emb3\": (emb2_eta - emb3_eta)})\n",
    "emb3_hab1 = pd.DataFrame({\"emb3 - hab1\": (emb3_eta - hab1_eta)})"
   ]
  },
  {
   "cell_type": "code",
   "execution_count": 6,
   "id": "db02ded1",
   "metadata": {},
   "outputs": [],
   "source": [
    "Et_total = []\n",
    "for index, row in pi0_layer_info.iterrows():\n",
    "    Et = row[1:].to_numpy() \n",
    "    Et_total.append(np.sum(Et))\n",
    "\n",
    "Et_total = pd.DataFrame({\"Et total\": Et_total})"
   ]
  },
  {
   "cell_type": "code",
   "execution_count": 7,
   "id": "45e1f8d0",
   "metadata": {},
   "outputs": [],
   "source": [
    "feature_set = pd.concat([psb_eta,\n",
    "                        emb1_eta, \n",
    "                        emb2_eta,\n",
    "                        emb3_eta,\n",
    "                        hab1_eta,\n",
    "                        psb_emb1,\n",
    "                        emb1_emb2,\n",
    "                        emb2_emb3,\n",
    "                        emb3_hab1,\n",
    "                        psb_Et, emb1_Et, emb2_Et, emb3_Et, hab1_Et], axis = 1)"
   ]
  },
  {
   "cell_type": "code",
   "execution_count": 8,
   "id": "5ecb8959",
   "metadata": {},
   "outputs": [],
   "source": [
    "all_features_p_et = pd.concat([feature_set, Et_total], axis = 1)"
   ]
  },
  {
   "cell_type": "code",
   "execution_count": 9,
   "id": "30afc054",
   "metadata": {},
   "outputs": [],
   "source": [
    "label = pi0_event_info[\"z\"]"
   ]
  },
  {
   "cell_type": "code",
   "execution_count": 10,
   "id": "2c44abdd",
   "metadata": {},
   "outputs": [],
   "source": [
    "all_features_train, all_features_test, label_train, label_test = train_test_split(all_features_p_et, label, test_size=0.3, random_state=30)"
   ]
  },
  {
   "cell_type": "code",
   "execution_count": 11,
   "id": "35b31dea",
   "metadata": {},
   "outputs": [],
   "source": [
    "X_train = all_features_train.drop('Et total', axis=1)\n",
    "X_test = all_features_test.drop('Et total', axis=1)\n",
    "y_train = label_train\n",
    "y_test = label_test"
   ]
  },
  {
   "cell_type": "code",
   "execution_count": 12,
   "id": "384dbd42",
   "metadata": {},
   "outputs": [],
   "source": [
    "dtrain = xgb.DMatrix(X_train, label=y_train)\n",
    "dtest = xgb.DMatrix(X_test, label=y_test)\n",
    "\n",
    "params = {\n",
    "    'max_depth': 6,\n",
    "    'objective': 'reg:squarederror',  \n",
    "    'eval_metric': 'rmse',  \n",
    "    'alpha': 0,\n",
    "    'learning_rate': 0.1 \n",
    "\n",
    "}\n",
    "\n",
    "num_round = 600  #Number of boosting rounds\n",
    "bdt_model = xgb.train(params, dtrain, num_boost_round=num_round)\n",
    "\n",
    "predictions = bdt_model.predict(dtest)\n",
    "\n",
    "mse = mean_squared_error(y_test, predictions)\n",
    "\n",
    "rmse = np.sqrt(mse)"
   ]
  }
 ],
 "metadata": {
  "kernelspec": {
   "display_name": "Python 3 (ipykernel)",
   "language": "python",
   "name": "python3"
  },
  "language_info": {
   "codemirror_mode": {
    "name": "ipython",
    "version": 3
   },
   "file_extension": ".py",
   "mimetype": "text/x-python",
   "name": "python",
   "nbconvert_exporter": "python",
   "pygments_lexer": "ipython3",
   "version": "3.11.5"
  }
 },
 "nbformat": 4,
 "nbformat_minor": 5
}
